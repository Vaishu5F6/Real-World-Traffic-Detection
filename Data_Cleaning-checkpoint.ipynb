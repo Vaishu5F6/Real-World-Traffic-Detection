{
 "cells": [
  {
   "cell_type": "code",
   "execution_count": 1,
   "id": "465edd95-5105-4f10-883d-3dcd8b48665c",
   "metadata": {},
   "outputs": [],
   "source": [
    "from pathlib import Path\n",
    "from PIL import Image, ImageEnhance, ImageFilter"
   ]
  },
  {
   "cell_type": "code",
   "execution_count": 2,
   "id": "e1992604-a6ae-4b71-8b5e-a25653b2a187",
   "metadata": {},
   "outputs": [],
   "source": [
    "data_paths = {\n",
    "    \"train\": {\n",
    "        \"images\": Path(\"./dataset/train/images\"),\n",
    "        \"labels\": Path(\"./dataset/train/labels\"),\n",
    "    },\n",
    "    \"test\": {\n",
    "        \"images\": Path(\"./dataset/test/images\"),\n",
    "        \"labels\": Path(\"./dataset/test/labels\"),\n",
    "    },\n",
    "    \"valid\": {\n",
    "        \"images\": Path(\"./dataset/valid/images\"),\n",
    "        \"labels\": Path(\"./dataset/valid/labels\"),\n",
    "    },\n",
    "}"
   ]
  },
  {
   "cell_type": "code",
   "execution_count": 3,
   "id": "d4256f38-4a51-432f-933b-10cd9d9d609d",
   "metadata": {},
   "outputs": [],
   "source": [
    "def clean_image(image_path: Path):\n",
    "    img = Image.open(str(image_path))\n",
    "    img = ImageEnhance.Sharpness(img.filter(ImageFilter.MedianFilter(3))).enhance(5)\n",
    "    img.save(str(image_path), 'JPG')"
   ]
  },
  {
   "cell_type": "code",
   "execution_count": 6,
   "id": "e292b043-1743-41d7-a3e4-3f13997f5875",
   "metadata": {},
   "outputs": [
    {
     "name": "stdout",
     "output_type": "stream",
     "text": [
      "5805\n",
      "549\n",
      "0\n"
     ]
    }
   ],
   "source": [
    "for key in data_paths.keys():\n",
    "    img_paths = [path.resolve() for path in data_paths[key]['images'].rglob('*')]\n",
    "    print(len(img_paths))"
   ]
  },
  {
   "cell_type": "code",
   "execution_count": null,
   "id": "bd4503d0-9e4c-4bf1-860a-00e36ad7c350",
   "metadata": {},
   "outputs": [],
   "source": []
  }
 ],
 "metadata": {
  "kernelspec": {
   "display_name": "Python 3 (ipykernel)",
   "language": "python",
   "name": "python3"
  },
  "language_info": {
   "codemirror_mode": {
    "name": "ipython",
    "version": 3
   },
   "file_extension": ".py",
   "mimetype": "text/x-python",
   "name": "python",
   "nbconvert_exporter": "python",
   "pygments_lexer": "ipython3",
   "version": "3.11.1"
  }
 },
 "nbformat": 4,
 "nbformat_minor": 5
}
